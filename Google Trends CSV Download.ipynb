{
 "cells": [
  {
   "cell_type": "code",
   "execution_count": null,
   "metadata": {},
   "outputs": [],
   "source": [
    "#Импорт нужных библиотек\n",
    "\n",
    "from selenium import webdriver as wb\n",
    "from selenium.webdriver.common.keys import Keys\n",
    "import ipywidgets as widgets\n",
    "import pandas as pd\n",
    "import math"
   ]
  },
  {
   "cell_type": "code",
   "execution_count": null,
   "metadata": {},
   "outputs": [],
   "source": [
    "#Загрузка файла и просмотр датасета\n",
    "\n",
    "name_of_excel_dic = input ('Введите название Вашего xls или xlsx списка слов для поиска в формате my_dic.xlsx: ').strip()\n",
    "pandas_dic = pd.read_excel (name_of_excel_dic, index_col = 0)\n",
    "pd.set_option ('display.max_rows', pandas_dic.shape[0] + 1)\n",
    "display (pandas_dic)"
   ]
  },
  {
   "cell_type": "code",
   "execution_count": null,
   "metadata": {},
   "outputs": [],
   "source": [
    "#Выбор в виджете, где данные для поиска: в ряду или в столбце\n",
    "\n",
    "rows_or_columns = widgets.Dropdown(\n",
    "    options = ['В ряду', 'В столбце'],\n",
    "    description = 'Где данные?',\n",
    "    disabled = False,\n",
    ")\n",
    "display (rows_or_columns)"
   ]
  },
  {
   "cell_type": "code",
   "execution_count": null,
   "metadata": {},
   "outputs": [],
   "source": [
    "#Выбор в виджете, в каком конкретно ряду/ столбце нужные данные\n",
    "\n",
    "if rows_or_columns.value == 'В ряду':\n",
    "    which_needed = widgets.Dropdown(\n",
    "        options = pandas_dic.index,\n",
    "        description = 'Индекс ряда',\n",
    "        disabled = False,\n",
    "    )\n",
    "    display (which_needed)\n",
    "if rows_or_columns.value == 'В столбце':\n",
    "    which_needed = widgets.Dropdown(\n",
    "        options = pandas_dic.columns,\n",
    "        description = 'Столбец:',\n",
    "        disabled = False,\n",
    "    )\n",
    "    display (which_needed)\n"
   ]
  },
  {
   "cell_type": "code",
   "execution_count": null,
   "metadata": {},
   "outputs": [],
   "source": [
    "# Скачивание файлов в папку \"Загрузки\" локального компьютера \n",
    "# В формате .csv со статистикой по запросам из выбранного столбца/ ряда загруженного нами датасета \n",
    "\n",
    "data_location = pandas_dic.columns.get_loc(which_needed.value)\n",
    "\n",
    "if rows_or_columns.value == 'В столбце':\n",
    "    data_needed = pandas_dic.iloc [:, data_location]\n",
    "elif rows_or_columns.value == 'В ряду':\n",
    "    data_needed = pandas_dic.iloc [data_location, :]\n",
    "\n",
    "for for_search in data_needed:\n",
    "    \n",
    "    if type (for_search) == float:\n",
    "        if math.isnan(for_search) == True:\n",
    "            print ('Данные отсутствуют')\n",
    "            continue\n",
    "    \n",
    "    else:\n",
    "        br = wb.Chrome('C:/Users/User/Documents/chromedriver.exe')\n",
    "        br.get ('https://trends.google.ru/trends/?geo=RU')\n",
    "        field = br.find_element_by_id ('input-254')\n",
    "        field.send_keys(for_search + Keys.ENTER)\n",
    "        br.implicitly_wait(2)\n",
    "        file_download = br.find_element_by_css_selector ('.widget-actions-item.export').click()"
   ]
  }
 ],
 "metadata": {
  "kernelspec": {
   "display_name": "Python 3",
   "language": "python",
   "name": "python3"
  },
  "language_info": {
   "codemirror_mode": {
    "name": "ipython",
    "version": 3
   },
   "file_extension": ".py",
   "mimetype": "text/x-python",
   "name": "python",
   "nbconvert_exporter": "python",
   "pygments_lexer": "ipython3",
   "version": "3.7.4"
  }
 },
 "nbformat": 4,
 "nbformat_minor": 2
}
